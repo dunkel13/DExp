{
 "cells": [
  {
   "cell_type": "markdown",
   "metadata": {},
   "source": [
    "# Taller 3 DExp - Punto 5"
   ]
  },
  {
   "cell_type": "markdown",
   "metadata": {},
   "source": [
    "Se quiere estudiar los efectos de la _velocidad de corte_ (A), _geometría de la herramienta_ (B) y _angulo de corte_ (C), en la vida util (en horas) de una máquina de sierra."
   ]
  },
  {
   "cell_type": "code",
   "execution_count": 1,
   "metadata": {},
   "outputs": [
    {
     "name": "stdout",
     "output_type": "stream",
     "text": [
      "   angulo geometria velocidad replica vutil\n",
      "1      C-        B-        A-       1    22\n",
      "2      C-        B-        A-       2    31\n",
      "3      C-        B-        A-       3    25\n",
      "4      C-        B-        A+       1    32\n",
      "5      C-        B-        A+       2    43\n",
      "6      C-        B-        A+       3    29\n",
      "7      C-        B+        A-       1    35\n",
      "8      C-        B+        A-       2    34\n",
      "9      C-        B+        A-       3    50\n",
      "10     C-        B+        A+       1    55\n",
      "11     C-        B+        A+       2    47\n",
      "12     C-        B+        A+       3    46\n",
      "13     C+        B-        A-       1    44\n",
      "14     C+        B-        A-       2    45\n",
      "15     C+        B-        A-       3    38\n",
      "16     C+        B-        A+       1    40\n",
      "17     C+        B-        A+       2    37\n",
      "18     C+        B-        A+       3    36\n",
      "19     C+        B+        A-       1    60\n",
      "20     C+        B+        A-       2    50\n",
      "21     C+        B+        A-       3    54\n",
      "22     C+        B+        A+       1    39\n",
      "23     C+        B+        A+       2    41\n",
      "24     C+        B+        A+       3    47\n"
     ]
    }
   ],
   "source": [
    "ejercicio5<-data.frame(angulo=factor(c(rep(\"C-\",12),rep(\"C+\",12))),\n",
    "                       geometria=c(rep(c(rep(\"B-\",6),rep(\"B+\",6)),2)),\n",
    "                       velocidad=factor( c( rep( c(rep(\"A-\",3),rep(\"A+\",3)), 4) ) ),\n",
    "                       replica=factor(rep(c(1,2,3),8)),\n",
    "                       vutil=c(22,31,25,32,43,29,35,34,\n",
    "                               50,55,47,46,44,45,38,40,\n",
    "                               37,36,60,50,54,39,41,47))\n",
    "\n",
    "print(ejercicio5)"
   ]
  },
  {
   "cell_type": "code",
   "execution_count": 2,
   "metadata": {},
   "outputs": [
    {
     "data": {
      "text/plain": [
       "                           Df Sum Sq Mean Sq F value   Pr(>F)    \n",
       "velocidad                   1    0.7     0.7   0.022 0.883680    \n",
       "geometria                   1  770.7   770.7  25.547 0.000117 ***\n",
       "angulo                      1  280.2   280.2   9.287 0.007679 ** \n",
       "velocidad:geometria         1   16.7    16.7   0.552 0.468078    \n",
       "velocidad:angulo            1  468.2   468.2  15.519 0.001172 ** \n",
       "geometria:angulo            1   48.2    48.2   1.597 0.224475    \n",
       "velocidad:geometria:angulo  1   28.2    28.2   0.934 0.348282    \n",
       "Residuals                  16  482.7    30.2                     \n",
       "---\n",
       "Signif. codes:  0 ‘***’ 0.001 ‘**’ 0.01 ‘*’ 0.05 ‘.’ 0.1 ‘ ’ 1"
      ]
     },
     "metadata": {},
     "output_type": "display_data"
    }
   ],
   "source": [
    "# Con todas las interacciones dobles y triples entre los factores\n",
    "anova5 <- aov(vutil ~ velocidad*geometria*angulo,data=ejercicio5)\n",
    "summary(anova5)"
   ]
  },
  {
   "cell_type": "code",
   "execution_count": 3,
   "metadata": {},
   "outputs": [
    {
     "name": "stdout",
     "output_type": "stream",
     "text": [
      "Analysis of Variance Table\n",
      "\n",
      "Response: vutil\n",
      "                           Df Sum Sq Mean Sq F value    Pr(>F)    \n",
      "velocidad                   1   0.67    0.67  0.0221 0.8836803    \n",
      "geometria                   1 770.67  770.67 25.5470 0.0001173 ***\n",
      "angulo                      1 280.17  280.17  9.2873 0.0076787 ** \n",
      "velocidad:geometria         1  16.67   16.67  0.5525 0.4680784    \n",
      "velocidad:angulo            1 468.17  468.17 15.5193 0.0011722 ** \n",
      "geometria:angulo            1  48.17   48.17  1.5967 0.2244753    \n",
      "velocidad:geometria:angulo  1  28.17   28.17  0.9337 0.3482825    \n",
      "Residuals                  16 482.67   30.17                      \n",
      "---\n",
      "Signif. codes:  0 ‘***’ 0.001 ‘**’ 0.01 ‘*’ 0.05 ‘.’ 0.1 ‘ ’ 1\n"
     ]
    },
    {
     "data": {
      "text/plain": [
       "\n",
       "Call:\n",
       "lm(formula = vutil ~ velocidad + geometria + angulo + velocidad * \n",
       "    geometria + velocidad * angulo + geometria * angulo * velocidad * \n",
       "    geometria * angulo, data = ejercicio5)\n",
       "\n",
       "Residuals:\n",
       "   Min     1Q Median     3Q    Max \n",
       "-5.667 -3.500 -1.167  3.167 10.333 \n",
       "\n",
       "Coefficients:\n",
       "                                 Estimate Std. Error t value Pr(>|t|)    \n",
       "(Intercept)                        26.000      3.171   8.199 4.02e-07 ***\n",
       "velocidadA+                         8.667      4.484   1.933  0.07119 .  \n",
       "geometriaB+                        13.667      4.484   3.048  0.00768 ** \n",
       "anguloC+                           16.333      4.484   3.642  0.00219 ** \n",
       "velocidadA+:geometriaB+             1.000      6.342   0.158  0.87668    \n",
       "velocidadA+:anguloC+              -13.333      6.342  -2.102  0.05171 .  \n",
       "geometriaB+:anguloC+               -1.333      6.342  -0.210  0.83614    \n",
       "velocidadA+:geometriaB+:anguloC+   -8.667      8.969  -0.966  0.34828    \n",
       "---\n",
       "Signif. codes:  0 ‘***’ 0.001 ‘**’ 0.01 ‘*’ 0.05 ‘.’ 0.1 ‘ ’ 1\n",
       "\n",
       "Residual standard error: 5.492 on 16 degrees of freedom\n",
       "Multiple R-squared:  0.7696,\tAdjusted R-squared:  0.6689 \n",
       "F-statistic: 7.637 on 7 and 16 DF,  p-value: 0.0003977\n"
      ]
     },
     "metadata": {},
     "output_type": "display_data"
    }
   ],
   "source": [
    "lm5 <- lm(vutil ~ velocidad+geometria+angulo+velocidad*geometria+velocidad*angulo+\n",
    "            geometria*angulo*velocidad*geometria*angulo,data=ejercicio5)\n",
    "print(anova(lm5))\n",
    "summary(lm5)"
   ]
  },
  {
   "cell_type": "code",
   "execution_count": 4,
   "metadata": {},
   "outputs": [
    {
     "name": "stdout",
     "output_type": "stream",
     "text": [
      "[1] 26.00000 34.66667 39.66667 49.33333 42.33333 37.66667 54.66667 42.33333\n"
     ]
    }
   ],
   "source": [
    "Rep=matrix(ejercicio5$vutil, nr=8, nc=3, byrow=TRUE)\n",
    "ybar=apply(Rep, MARGIN = 1, mean)\n",
    "print(ybar)"
   ]
  },
  {
   "cell_type": "markdown",
   "metadata": {},
   "source": [
    "ef(A) = (-1  1  -1  1  -1  1  -1  1) $\\frac{1}{4}\\bar{y} = \\frac{1}{4n} \\sum_i c_i' y_{i .} $\n",
    "\n",
    "$4n \\ ef(A) = \\sum_i c_i' y_{i .}$ "
   ]
  },
  {
   "cell_type": "code",
   "execution_count": 5,
   "metadata": {},
   "outputs": [
    {
     "name": "stdout",
     "output_type": "stream",
     "text": [
      "[1]  0.3333333 -2.1666667\n"
     ]
    }
   ],
   "source": [
    "ef_A=0.25*(t(c(-1,1,-1,1,-1,1,-1,1))%*%ybar)   #0.333333\n",
    "#\n",
    "#\n",
    "#\n",
    "ef_ABC=0.25*(t(c(-1,1,1,-1,1,-1,-1,1))%*%ybar) #-2.166666\n",
    "print(c(ef_A,ef_ABC))"
   ]
  },
  {
   "cell_type": "markdown",
   "metadata": {},
   "source": [
    "$SC(A) =\\frac{(\\sum_i c_i' y_{i .})^2}{n \\sum_i c_i^2} = \\frac{n (\\ 4 \\ \\ ef(A) \\ )^2}{\\sum_i c_i^2}$\n",
    "\n",
    "n: número de réplicas"
   ]
  },
  {
   "cell_type": "code",
   "execution_count": 6,
   "metadata": {},
   "outputs": [
    {
     "name": "stdout",
     "output_type": "stream",
     "text": [
      "[1]  0.6666667 28.1666667\n"
     ]
    }
   ],
   "source": [
    "SC_A=(3*(ef_A*4)^2)/8     #0.6666667\n",
    "#\n",
    "#\n",
    "#\n",
    "SC_ABC=(3*(ef_ABC*4)^2)/8 #28.1666667\n",
    "print(c(SC_A,SC_ABC))"
   ]
  },
  {
   "cell_type": "markdown",
   "metadata": {},
   "source": [
    "$SC(Total) = \\sum_{i}\\sum_{j}\\sum_{k}  (y_{ijk} - \\frac{y_{\\ldots}}{2^k \ n})^2 $"
   ]
  },
  {
   "cell_type": "code",
   "execution_count": 7,
   "metadata": {},
   "outputs": [
    {
     "name": "stdout",
     "output_type": "stream",
     "text": [
      "[1] 2095.333\n"
     ]
    }
   ],
   "source": [
    "ybarg=mean(Rep)\n",
    "SC_total=sum((Rep-ybarg)^2) #2095.333\n",
    "print(SC_total)"
   ]
  }
 ],
 "metadata": {
  "kernelspec": {
   "display_name": "R",
   "language": "R",
   "name": "ir"
  },
  "language_info": {
   "codemirror_mode": "r",
   "file_extension": ".r",
   "mimetype": "text/x-r-source",
   "name": "R",
   "pygments_lexer": "r",
   "version": "3.4.4"
  }
 },
 "nbformat": 4,
 "nbformat_minor": 2
}
