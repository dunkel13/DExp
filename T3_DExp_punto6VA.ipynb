{
 "cells": [
  {
   "cell_type": "markdown",
   "metadata": {},
   "source": [
    "# Taller 3 DExp - Punto 6 VA\n",
    "\n",
    "## Ejercicio 9.15 Montgomery - Diseños $2^k$"
   ]
  },
  {
   "cell_type": "markdown",
   "metadata": {},
   "source": [
    "+ ### En un estudio de rendimiento..."
   ]
  },
  {
   "cell_type": "code",
   "execution_count": 1,
   "metadata": {},
   "outputs": [
    {
     "name": "stdout",
     "output_type": "stream",
     "text": [
      "    A  B  C  D\n",
      "1  -1 -1 -1 -1\n",
      "2   1 -1 -1 -1\n",
      "3  -1  1 -1 -1\n",
      "4   1  1 -1 -1\n",
      "5  -1 -1  1 -1\n",
      "6   1 -1  1 -1\n",
      "7  -1  1  1 -1\n",
      "8   1  1  1 -1\n",
      "9  -1 -1 -1  1\n",
      "10  1 -1 -1  1\n",
      "11 -1  1 -1  1\n",
      "12  1  1 -1  1\n",
      "13 -1 -1  1  1\n",
      "14  1 -1  1  1\n",
      "15 -1  1  1  1\n",
      "16  1  1  1  1\n"
     ]
    }
   ],
   "source": [
    "k <- 4\n",
    "X <- matrix(0,2^k,k)\n",
    "X[,1] <- rep(c(rep(-1,1),rep(1,1)),2^(k-1))\n",
    "for(i in 1:(k-1)){\n",
    "  X[,i+1] <- rep(c(rep(-1,2^i),rep(1,2^i)),  2^(k-1 - i))\n",
    "}\n",
    "colnames(X) <- LETTERS[1:k]\n",
    "X <- as.data.frame(X)\n",
    "print(X)"
   ]
  },
  {
   "cell_type": "code",
   "execution_count": 2,
   "metadata": {},
   "outputs": [
    {
     "name": "stdout",
     "output_type": "stream",
     "text": [
      "   (Intercept)  A  B  C  D AB AC BC AD BD CD ABC ABD ACD BCD ABCD\n",
      "1            1 -1 -1 -1 -1  1  1  1  1  1  1  -1  -1  -1  -1    1\n",
      "2            1  1 -1 -1 -1 -1 -1  1 -1  1  1   1   1   1  -1   -1\n",
      "3            1 -1  1 -1 -1 -1  1 -1  1 -1  1   1   1  -1   1   -1\n",
      "4            1  1  1 -1 -1  1 -1 -1 -1 -1  1  -1  -1   1   1    1\n",
      "5            1 -1 -1  1 -1  1 -1 -1  1  1 -1   1  -1   1   1   -1\n",
      "6            1  1 -1  1 -1 -1  1 -1 -1  1 -1  -1   1  -1   1    1\n",
      "7            1 -1  1  1 -1 -1 -1  1  1 -1 -1  -1   1   1  -1    1\n",
      "8            1  1  1  1 -1  1  1  1 -1 -1 -1   1  -1  -1  -1   -1\n",
      "9            1 -1 -1 -1  1  1  1  1 -1 -1 -1  -1   1   1   1   -1\n",
      "10           1  1 -1 -1  1 -1 -1  1  1 -1 -1   1  -1  -1   1    1\n",
      "11           1 -1  1 -1  1 -1  1 -1 -1  1 -1   1  -1   1  -1    1\n",
      "12           1  1  1 -1  1  1 -1 -1  1  1 -1  -1   1  -1  -1   -1\n",
      "13           1 -1 -1  1  1  1 -1 -1 -1 -1  1   1   1  -1  -1    1\n",
      "14           1  1 -1  1  1 -1  1 -1  1 -1  1  -1  -1   1  -1   -1\n",
      "15           1 -1  1  1  1 -1 -1  1 -1  1  1  -1  -1  -1   1   -1\n",
      "16           1  1  1  1  1  1  1  1  1  1  1   1   1   1   1    1\n",
      "attr(,\"assign\")\n",
      " [1]  0  1  2  3  4  5  6  7  8  9 10 11 12 13 14 15\n"
     ]
    }
   ],
   "source": [
    "y <- c(12,18,13,16,17,15,20,15,10,25,13,24,19,21,17,23)\n",
    "#y <- c(15,13,17,19,12,10,15,13,18,17,25,23,16,20,24,21)\n",
    "fit <- lm(y ~ 1 + A*B*C*D, data=X)\n",
    "Xx <- model.matrix(fit)\n",
    "colnames(Xx) <- gsub(\":\",\"\",colnames(Xx))\n",
    "print(Xx)"
   ]
  },
  {
   "cell_type": "code",
   "execution_count": 3,
   "metadata": {},
   "outputs": [
    {
     "name": "stdout",
     "output_type": "stream",
     "text": [
      "     [,1]\n",
      "[1,]   36\n"
     ]
    }
   ],
   "source": [
    "ef_A = t(c(rep(c(-1,1),8)))%*%y\n",
    "print(ef_A)"
   ]
  },
  {
   "cell_type": "code",
   "execution_count": 4,
   "metadata": {},
   "outputs": [
    {
     "name": "stdout",
     "output_type": "stream",
     "text": [
      "      A       B       C       D     A:B     A:C     B:C     A:D     B:D     C:D \n",
      "   4.50    0.50    2.00    3.25   -0.75   -4.25    0.25    4.00    0.00    0.00 \n",
      "  A:B:C   A:B:D   A:C:D   B:C:D A:B:C:D \n",
      "   1.00    0.75   -0.25   -0.75    1.00 \n",
      "Analysis of Variance Table\n",
      "\n",
      "Response: y\n",
      "          Df Sum Sq Mean Sq F value Pr(>F)\n",
      "A          1  81.00   81.00               \n",
      "B          1   1.00    1.00               \n",
      "C          1  16.00   16.00               \n",
      "D          1  42.25   42.25               \n",
      "A:B        1   2.25    2.25               \n",
      "A:C        1  72.25   72.25               \n",
      "B:C        1   0.25    0.25               \n",
      "A:D        1  64.00   64.00               \n",
      "B:D        1   0.00    0.00               \n",
      "C:D        1   0.00    0.00               \n",
      "A:B:C      1   4.00    4.00               \n",
      "A:B:D      1   2.25    2.25               \n",
      "A:C:D      1   0.25    0.25               \n",
      "B:C:D      1   2.25    2.25               \n",
      "A:B:C:D    1   4.00    4.00               \n",
      "Residuals  0   0.00                       \n"
     ]
    }
   ],
   "source": [
    "options(warn=-1)\n",
    "options(repr.plot.width=6, repr.plot.height=4)\n",
    "efectos <- 2*fit$coef[2:16]\n",
    "print(round(efectos,2))\n",
    "print(anova(fit))"
   ]
  },
  {
   "cell_type": "code",
   "execution_count": 5,
   "metadata": {},
   "outputs": [
    {
     "data": {
      "text/html": [],
      "text/latex": [],
      "text/markdown": [],
      "text/plain": [
       "integer(0)"
      ]
     },
     "metadata": {},
     "output_type": "display_data"
    },
    {
     "data": {
      "image/png": "[encoded data removed]",
      "text/plain": [
       "Plot with title “Normal Q-Q Plot”"
      ]
     },
     "metadata": {},
     "output_type": "display_data"
    }
   ],
   "source": [
    "xx <- colnames(Xx)[2:16]\n",
    "# grafico normal de probabilidades\n",
    "grafico <- qqnorm(efectos)\n",
    "qqline(efectos)\n",
    "identify(grafico$x,grafico$y,n=5,labels=xx)"
   ]
  },
  {
   "cell_type": "code",
   "execution_count": 6,
   "metadata": {},
   "outputs": [
    {
     "data": {
      "text/plain": [
       "\n",
       "Call:\n",
       "lm(formula = y ~ A + C + D + A * C + A * D, data = X)\n",
       "\n",
       "Residuals:\n",
       "    Min      1Q  Median      3Q     Max \n",
       "-1.6250 -0.9375  0.1250  0.8750  1.3750 \n",
       "\n",
       "Coefficients:\n",
       "            Estimate Std. Error t value Pr(>|t|)    \n",
       "(Intercept)  17.3750     0.3187  54.520 1.04e-13 ***\n",
       "A             2.2500     0.3187   7.060 3.46e-05 ***\n",
       "C             1.0000     0.3187   3.138 0.010549 *  \n",
       "D             1.6250     0.3187   5.099 0.000465 ***\n",
       "A:C          -2.1250     0.3187  -6.668 5.58e-05 ***\n",
       "A:D           2.0000     0.3187   6.276 9.19e-05 ***\n",
       "---\n",
       "Signif. codes:  0 ‘***’ 0.001 ‘**’ 0.01 ‘*’ 0.05 ‘.’ 0.1 ‘ ’ 1\n",
       "\n",
       "Residual standard error: 1.275 on 10 degrees of freedom\n",
       "Multiple R-squared:  0.9443,\tAdjusted R-squared:  0.9165 \n",
       "F-statistic: 33.91 on 5 and 10 DF,  p-value: 5.856e-06\n"
      ]
     },
     "metadata": {},
     "output_type": "display_data"
    },
    {
     "name": "stdout",
     "output_type": "stream",
     "text": [
      "          Df Sum Sq Mean Sq   F value       Pr(>F)\n",
      "A          1  81.00  81.000 49.846154 3.456198e-05\n",
      "C          1  16.00  16.000  9.846154 1.054853e-02\n",
      "D          1  42.25  42.250 26.000000 4.646914e-04\n",
      "A:C        1  72.25  72.250 44.461538 5.582907e-05\n",
      "A:D        1  64.00  64.000 39.384615 9.193069e-05\n",
      "Residuals 10  16.25   1.625        NA           NA\n"
     ]
    }
   ],
   "source": [
    "fit2 <- lm(y ~ A+C+D+A*C+A*D, data=X) # falta ACD y CD\n",
    "# fit2 <- lm(y ~ A+C+D+A*C+A*D + C*D+A*C*D, data=X)\n",
    "summary(fit2)\n",
    "anova<-as.data.frame(anova(fit2))\n",
    "print(anova)"
   ]
  },
  {
   "cell_type": "code",
   "execution_count": 7,
   "metadata": {},
   "outputs": [
    {
     "name": "stdout",
     "output_type": "stream",
     "text": [
      "     [,1]\n",
      "[1,]   36\n",
      "     [,1]\n",
      "[1,]   81\n"
     ]
    }
   ],
   "source": [
    "print(ef_A)\n",
    "SC_A=(ef_A)^2/16\n",
    "print(SC_A)"
   ]
  },
  {
   "cell_type": "code",
   "execution_count": 8,
   "metadata": {},
   "outputs": [
    {
     "data": {
      "text/html": [
       "<strong>A:</strong> 4.5"
      ],
      "text/latex": [
       "\\textbf{A:} 4.5"
      ],
      "text/markdown": [
       "**A:** 4.5"
      ],
      "text/plain": [
       "  A \n",
       "4.5 "
      ]
     },
     "metadata": {},
     "output_type": "display_data"
    },
    {
     "name": "stdout",
     "output_type": "stream",
     "text": [
      "       A \n",
      "1.265625 \n"
     ]
    }
   ],
   "source": [
    "efectos[1]\n",
    "print((efectos[1])^2/16)"
   ]
  },
  {
   "cell_type": "code",
   "execution_count": 9,
   "metadata": {},
   "outputs": [
    {
     "data": {
      "image/png": "[encoded data removed]",
      "text/plain": [
       "Plot with title “Gráfico normal de \n",
       " probabilidad de los residuales”"
      ]
     },
     "metadata": {},
     "output_type": "display_data"
    }
   ],
   "source": [
    "X.res <- resid(fit2)\n",
    "respad <- X.res/sqrt(sum(X.res^2)/fit2$df.res)\n",
    "options(repr.plot.width=8, repr.plot.height=4)\n",
    "par(mfrow=c(1,2))\n",
    "plot(fitted(fit2), respad, xlab = \"valores ajustados\", ylab = \"residuales\",lty=4)\n",
    "abline(h = 0, lty = 2)\n",
    "title(\"Residuales estandarizados vs \\n Valores predichos\")\n",
    "qqnorm(X.res, ylab = \"Residuales\", main = NULL)\n",
    "qqline(X.res)\n",
    "title(\"Gráfico normal de \\n probabilidad de los residuales\")"
   ]
  }
 ],
 "metadata": {
  "kernelspec": {
   "display_name": "R",
   "language": "R",
   "name": "ir"
  },
  "language_info": {
   "codemirror_mode": "r",
   "file_extension": ".r",
   "mimetype": "text/x-r-source",
   "name": "R",
   "pygments_lexer": "r",
   "version": "3.4.4"
  }
 },
 "nbformat": 4,
 "nbformat_minor": 2
}
